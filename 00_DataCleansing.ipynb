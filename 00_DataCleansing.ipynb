{
 "cells": [
  {
   "cell_type": "markdown",
   "metadata": {},
   "source": [
    "# 00 Data Cleansing"
   ]
  },
  {
   "cell_type": "markdown",
   "metadata": {},
   "source": [
    "This script reads and cleanses: \n",
    "- 01. Actual generation data (From ENTSO-e) orignal .xlsx format \n",
    "- 02. CO2 equivalent data (From ElectricityMap's github repository) .json format  \n"
   ]
  },
  {
   "cell_type": "code",
   "execution_count": 1,
   "metadata": {},
   "outputs": [],
   "source": [
    "# Importing packages\n",
    "import pandas as pd\n",
    "import numpy as np\n",
    "import xlrd\n",
    "import os\n",
    "import sqlite3\n",
    "import json"
   ]
  },
  {
   "cell_type": "markdown",
   "metadata": {},
   "source": [
    "## 01. Actual generation data"
   ]
  },
  {
   "cell_type": "code",
   "execution_count": 2,
   "metadata": {},
   "outputs": [],
   "source": [
    "# Reads file and defines row 4 as header\n",
    "df =pd.read_excel(os.path.join(\"ActualGeneration.xlsx\"),\n",
    "     engine='openpyxl', header=4)\n",
    "\n",
    "# Drop empty rows \n",
    "df.dropna(subset = [\"MTU\"], inplace=True)\n",
    "                    \n",
    "# Create date field\n",
    "df['Date'] = np.where(pd.isnull(df[\"Biomass\"]), df[\"MTU\"],np.nan)\n",
    "\n",
    "# Replacing na values in date with the date above\n",
    "df['Date'].fillna( method ='ffill', inplace = True)\n",
    "df.dropna(subset = [\"Biomass\"], inplace=True)\n",
    "\n",
    "# Defines starttime from time interval\n",
    "df['StartTime']= df['MTU'].str.slice(start=0, stop=5)+\":00\"\n",
    "\n",
    "# Combine Date & Startime to get datetime field\n",
    "df['DateTime']= df['Date'] + ' ' + df['StartTime']\n",
    "\n",
    "# Save clean version \n",
    "df.to_csv('ActualGeneration.csv')"
   ]
  },
  {
   "cell_type": "code",
   "execution_count": 22,
   "metadata": {},
   "outputs": [],
   "source": [
    "#Initiate a new SQLite database connection object and assign this object to the variable 'dn_conn'\n",
    "db_conn = sqlite3.connect(\"EM.db\")"
   ]
  },
  {
   "cell_type": "code",
   "execution_count": 23,
   "metadata": {},
   "outputs": [],
   "source": [
    "# establish a cursor object and assign to c\n",
    "c = db_conn.cursor()"
   ]
  },
  {
   "cell_type": "code",
   "execution_count": 83,
   "metadata": {},
   "outputs": [
    {
     "data": {
      "text/plain": [
       "<sqlite3.Cursor at 0x10be2e570>"
      ]
     },
     "execution_count": 83,
     "metadata": {},
     "output_type": "execute_result"
    }
   ],
   "source": [
    "# Create empty table for actual generation\n",
    "c.execute(\n",
    "    \"\"\"\n",
    "    CREATE TABLE IF NOT EXISTS ActualGeneration (\n",
    "        Solar REAL, Biomass REAL );\n",
    "     \"\"\"\n",
    ")"
   ]
  },
  {
   "cell_type": "code",
   "execution_count": 84,
   "metadata": {},
   "outputs": [],
   "source": [
    "# TODO: Only sample fields for now\n",
    "df = df[['Solar','Biomass']]\n",
    "df.head()\n",
    "# Populate Tables\n",
    "df.to_sql('ActualGeneration', db_conn, if_exists='append', index=False)"
   ]
  },
  {
   "cell_type": "code",
   "execution_count": 85,
   "metadata": {},
   "outputs": [],
   "source": [
    "#pd.read_sql(\"SELECT * FROM ActualGeneration LIMIT 10\", db_conn)"
   ]
  },
  {
   "cell_type": "markdown",
   "metadata": {},
   "source": [
    "## 02. CO2 Equivalent Data"
   ]
  },
  {
   "cell_type": "code",
   "execution_count": 103,
   "metadata": {},
   "outputs": [],
   "source": [
    "with open('co2eq_parameters.json', 'r') as f:\n",
    "    data = json.load(f)\n",
    "df_CO2 = pd.DataFrame(data)\n",
    "\n"
   ]
  },
  {
   "cell_type": "code",
   "execution_count": 104,
   "metadata": {},
   "outputs": [
    {
     "data": {
      "text/html": [
       "<div>\n",
       "<style scoped>\n",
       "    .dataframe tbody tr th:only-of-type {\n",
       "        vertical-align: middle;\n",
       "    }\n",
       "\n",
       "    .dataframe tbody tr th {\n",
       "        vertical-align: top;\n",
       "    }\n",
       "\n",
       "    .dataframe thead th {\n",
       "        text-align: right;\n",
       "    }\n",
       "</style>\n",
       "<table border=\"1\" class=\"dataframe\">\n",
       "  <thead>\n",
       "    <tr style=\"text-align: right;\">\n",
       "      <th></th>\n",
       "      <th>emissionFactors</th>\n",
       "      <th>fallbackZoneMixes</th>\n",
       "      <th>isLowCarbon</th>\n",
       "      <th>isRenewable</th>\n",
       "    </tr>\n",
       "  </thead>\n",
       "  <tbody>\n",
       "    <tr>\n",
       "      <th>defaults</th>\n",
       "      <td>{'battery charge': {'_comment': 'Emissions are...</td>\n",
       "      <td>{'_source': 'BP Statistical Review of World En...</td>\n",
       "      <td>{'battery charge': True, 'battery discharge': ...</td>\n",
       "      <td>{'battery charge': True, 'battery discharge': ...</td>\n",
       "    </tr>\n",
       "    <tr>\n",
       "      <th>zoneOverrides</th>\n",
       "      <td>{'AR': {'hydro discharge': {'source': '2017 av...</td>\n",
       "      <td>{'AM': {'_source': 'Tomorrow', 'powerOriginRat...</td>\n",
       "      <td>{'GB-ORK': {'unknown': True}, 'UA': {'unknown'...</td>\n",
       "      <td>{'FO': {'unknown': True}, 'GB-ORK': {'unknown'...</td>\n",
       "    </tr>\n",
       "  </tbody>\n",
       "</table>\n",
       "</div>"
      ],
      "text/plain": [
       "                                                 emissionFactors  \\\n",
       "defaults       {'battery charge': {'_comment': 'Emissions are...   \n",
       "zoneOverrides  {'AR': {'hydro discharge': {'source': '2017 av...   \n",
       "\n",
       "                                               fallbackZoneMixes  \\\n",
       "defaults       {'_source': 'BP Statistical Review of World En...   \n",
       "zoneOverrides  {'AM': {'_source': 'Tomorrow', 'powerOriginRat...   \n",
       "\n",
       "                                                     isLowCarbon  \\\n",
       "defaults       {'battery charge': True, 'battery discharge': ...   \n",
       "zoneOverrides  {'GB-ORK': {'unknown': True}, 'UA': {'unknown'...   \n",
       "\n",
       "                                                     isRenewable  \n",
       "defaults       {'battery charge': True, 'battery discharge': ...  \n",
       "zoneOverrides  {'FO': {'unknown': True}, 'GB-ORK': {'unknown'...  "
      ]
     },
     "execution_count": 104,
     "metadata": {},
     "output_type": "execute_result"
    }
   ],
   "source": [
    "df_CO2.head() \n"
   ]
  },
  {
   "cell_type": "code",
   "execution_count": 111,
   "metadata": {},
   "outputs": [
    {
     "name": "stdout",
     "output_type": "stream",
     "text": [
      "{'AR': {'hydro discharge': {'source': '2017 average by Tomorrow', 'value': 297.18891097799343}}, 'AT': {'battery discharge': {'source': '2019 average by Tomorrow', 'value': 173.4729702559071}, 'hydro discharge': {'source': '2019 average by Tomorrow', 'value': 173.4729702559071}}, 'AUS-NSW': {'hydro discharge': {'source': '2017 average by Tomorrow', 'value': 726.0064734066499}}, 'AUS-QLD': {'hydro discharge': {'source': '2017 average by Tomorrow', 'value': 766.6875812088138}}, 'AUS-SA': {'battery discharge': {'source': '2019 average by Tomorrow', 'value': 264.9516942784522}, 'hydro discharge': {'source': '2019 average by Tomorrow', 'value': 264.9516942784522}}, 'AUS-TAS': {'hydro discharge': {'source': '2017 average by Tomorrow', 'value': 128.59069995581274}}, 'AUS-VIC': {'hydro discharge': {'source': '2017 average by Tomorrow', 'value': 682.6761763130781}}, 'AUS-WA': {'hydro discharge': {'source': '2017 average by Tomorrow', 'value': 611.2821372774696}}, 'BA': {'hydro discharge': {'source': '2017 average by Tomorrow', 'value': 717.9419102176483}}, 'BE': {'battery discharge': {'source': '2019 average by Tomorrow', 'value': 191.438056497875}, 'hydro discharge': {'source': '2019 average by Tomorrow', 'value': 191.438056497875}}, 'BG': {'hydro discharge': {'source': '2017 average by Tomorrow', 'value': 418.2092755632947}}, 'BO': {'hydro discharge': {'source': '2017 average by Tomorrow', 'value': 558.083871451602}, 'unknown': {'_url': 'https://www.iea.org/data-and-statistics?country=BOLIVIA&fuel=Energy%20supply&indicator=ElecGenByFuel', 'source': 'IEA 2019, assumes 1.4% oil, 94.5% gas, 4.0% biomass', 'value': 481.2}}, 'BR-CS': {'hydro discharge': {'source': '2017 average by Tomorrow', 'value': 143.78721239840618}}, 'BR-N': {'hydro discharge': {'source': '2017 average by Tomorrow', 'value': 310.87795272553205}}, 'BR-NE': {'hydro discharge': {'source': '2017 average by Tomorrow', 'value': 240.54214408759694}}, 'BR-S': {'hydro discharge': {'source': '2017 average by Tomorrow', 'value': 123.14921411453244}}, 'CA-AB': {'unknown': {'source': 'Battle River dual fuel power plant: 50% coal and 50% natural gas', 'value': 655}, 'battery discharge': {'source': '2017 average by Tomorrow', 'value': 597}}, 'CA-NS': {'hydro discharge': {'source': '2017 average by Tomorrow', 'value': 557.5937668126903}}, 'CA-ON': {'hydro discharge': {'source': '2017 average by Tomorrow', 'value': 34.64876799001495}}, 'CA-PE': {'hydro discharge': {'source': '2017 average by Tomorrow', 'value': 61.455304595109254}}, 'CA-YT': {'hydro discharge': {'source': '2017 average by Tomorrow', 'value': 40.98482440401805}}, 'CH': {'unknown': {'_comment': 'Source ENTSOE and Swiss government: https://github.com/tmrowco/electricitymap-contrib/pull/2898', 'source': 'assumes 64% hydro, 13% hydro storage, 12% unknown thermal, 7% solar, 3% unknown renewable', 'value': 131}, 'hydro discharge': {'source': '2020 average by Tomorrow', 'value': 87.03}, 'battery discharge': {'source': '2020 average by Tomorrow', 'value': 87.03}}, 'CL-SEN': {'unknown': {'source': '2020 average based on breakdown from https://www.coordinador.cl/reportes-y-estadisticas/', 'value': 491.8}}, 'CL-SING': {'hydro discharge': {'source': '2017 average by Tomorrow', 'value': 614.2555591940885}}, 'CR': {'hydro discharge': {'source': '2017 average by Tomorrow', 'value': 52.16941300335089}, 'unknown': {'_comment': 'Source https://www.grupoice.com/wps/wcm/connect/579dfc1f-5156-41e0-807d-d6808f65d718/Fasciculo_Electricidad_2020_ingl%C3%A9s_compressed.pdf?MOD=AJPERES&CVID=m.pGzcp', 'source': 'assumes 58% thermal (coal, gas, or oil), 42% solar and biomass', 'value': 463.75}}, 'CY': {'hydro discharge': {'source': '2017 average by Tomorrow', 'value': 603.5400311246383}}, 'CZ': {'battery discharge': {'source': '2019 average by Tomorrow', 'value': 425.78928599410017}, 'hydro discharge': {'source': '2019 average by Tomorrow', 'value': 425.78928599410017}}, 'DE': {'battery discharge': {'source': '2019 average by Tomorrow', 'value': 280.80354301505963}, 'hydro discharge': {'source': '2019 average by Tomorrow', 'value': 280.80354301505963}}, 'DK-DK1': {'hydro discharge': {'source': '2017 average by Tomorrow', 'value': 228.86202884669197}}, 'DK-DK2': {'hydro discharge': {'source': '2017 average by Tomorrow', 'value': 282.74731819331896}}, 'DO': {'hydro discharge': {'source': '2017 average by Tomorrow', 'value': 501.6151583506052}}, 'EE': {'coal': {'source': 'EASAC 2007', 'value': 1515}, 'hydro discharge': {'source': '2017 average by Tomorrow', 'value': 1124.6394396486162}}, 'ES': {'battery discharge': {'source': '2019 average by Tomorrow', 'value': 157.04376876992868}, 'hydro discharge': {'source': '2019 average by Tomorrow', 'value': 157.04376876992868}}, 'ES-CN-HI': {'battery discharge': {'source': '2019 average by Tomorrow', 'value': 82.05248776720254}, 'hydro discharge': {'source': '2019 average by Tomorrow', 'value': 82.05248776720254}}, 'ES-IB': {'hydro discharge': {'source': '2017 average by Tomorrow', 'value': 610.5081243078652}}, 'FI': {'hydro discharge': {'source': '2017 average by Tomorrow', 'value': 159.44929538773565}}, 'FO': {'hydro discharge': {'source': '2017 average by Tomorrow', 'value': 366.7153663910574}, 'unknown': {'source': 'Tidal (IPCC 2014)', 'value': 17}}, 'FR': {'battery discharge': {'source': '2019 average by Tomorrow', 'value': 48.14997796838915}, 'hydro discharge': {'source': '2019 average by Tomorrow', 'value': 48.14997796838915}}, 'GB': {'hydro discharge': {'source': '2017 average by Tomorrow', 'value': 297.6489439788152}}, 'GB-NIR': {'hydro discharge': {'source': '2017 average by Tomorrow', 'value': 429.1422388841488}}, 'GB-ORK': {'unknown': {'_comment': 'Source http://www.oref.co.uk/wp-content/uploads/2015/05/Orkney-wide-energy-audit-2014-Energy-Sources-and-Uses.pdf', 'source': 'assumes 95% wind, 5% solar', 'value': 13}}, 'GR': {'hydro discharge': {'source': '2017 average by Tomorrow', 'value': 501.15075317431626}}, 'GT': {'hydro discharge': {'source': '2017 average by Tomorrow', 'value': 178.67099686684926}}, 'HN': {'unknown': {'_url': 'https://www.iea.org/data-and-statistics?country=ISRAEL&fuel=Electricity%20and%20heat&indicator=Electricity%20generation%20by%20source', 'source': 'IEA 2017, assumes 36.5% oil, 33.4% hydro, 10.0% solar, 8.1% biomass, 6.2% wind, 5.8& oil', 'value': 316}}, 'HR': {'unknown': {'source': '2018 average estimated from https://www.hops.hr/page-file/oEvvKj779KAhmQg10Gezt2/temeljni-podaci/Temeljni%20podaci%202018.pdf', 'value': 240}}, 'HU': {'hydro discharge': {'source': '2017 average by Tomorrow', 'value': 284.044315979312}}, 'IE': {'battery discharge': {'source': '2019 average by Tomorrow', 'value': 327.25293751297517}, 'hydro discharge': {'source': '2019 average by Tomorrow', 'value': 327.25293751297517}}, 'IL': {'unknown': {'_url': 'https://www.iea.org/data-and-statistics?country=ISRAEL&fuel=Electricity%20and%20heat&indicator=Electricity%20generation%20by%20source', 'source': 'IEA 2018, assumes 30.4% coal, 65.9% gas, 0.5% oil, 2.5% solar, 0.3% wind, 0.4% other', 'value': 580}}, 'IN': {'unknown': {'source': 'assumes 43% solar PV and 57% wind', 'value': 26}}, 'IN-AP': {'hydro discharge': {'source': '2017 average by Tomorrow', 'value': 615.9045832043543}}, 'IN-CT': {'hydro discharge': {'source': '2017 average by Tomorrow', 'value': 817.7789768570119}}, 'IN-DL': {'hydro discharge': {'source': '2017 average by Tomorrow', 'value': 516.3746020945765}}, 'IN-KA': {'hydro discharge': {'source': '2017 average by Tomorrow', 'value': 589.9391089569107}, 'unknown': {'_comment': 'Source: Souther Regional Load Dispatch Center Allocation Limits', '_url': ['http://srldc.org/2018-19srallocation.aspx'], 'source': 'calculated 20% nuclear, 80% thermal (coal)', 'value': 658.4}}, 'IN-PB': {'hydro discharge': {'source': '2017 average by Tomorrow', 'value': 683.2474466710828}}, 'IT': {'hydro discharge': {'source': '2018 average by Tomorrow', 'value': 0.0}}, 'IT-CNO': {'hydro discharge': {'source': '2018 average by Tomorrow', 'value': 291.51281006259126}}, 'IT-CSO': {'battery discharge': {'source': '2019 average by Tomorrow', 'value': 377.4140994578113}, 'hydro discharge': {'source': '2019 average by Tomorrow', 'value': 377.4140994578113}}, 'IT-NO': {'battery discharge': {'source': '2019 average by Tomorrow', 'value': 328.40962022742235}, 'hydro discharge': {'source': '2019 average by Tomorrow', 'value': 328.40962022742235}}, 'IT-SAR': {'battery discharge': {'source': '2019 average by Tomorrow', 'value': 470.46613342903015}, 'hydro discharge': {'source': '2019 average by Tomorrow', 'value': 470.46613342903015}}, 'IT-SIC': {'battery discharge': {'source': '2019 average by Tomorrow', 'value': 329.3209055463916}, 'hydro discharge': {'source': '2019 average by Tomorrow', 'value': 329.3209055463916}}, 'IT-SO': {'hydro discharge': {'source': '2017 average by Tomorrow', 'value': 413.76308999360253}}, 'JP-CB': {'unknown': {'_comment': 'Source: Derived from 2016-2019 Chubu area supply statistics and 2017-2018 Chubu Electric report', '_url': ['https://www.chuden.co.jp/corporate/publicity/datalist/juyo/dat_kousei/index.html', 'http://denki-yoho.chuden.jp/denki_yoho_content_data/areabalance_current_term.csv'], 'source': 'assumes 26.3% coal, 2.2% oil, 62.5% gas, 9% hydro and wind', 'value': 538}}, 'KR': {'unknown': {'_comment': 'Source: Derived from 2016 annual average by IEA', '_url': 'https://www.iea.org/statistics/?country=KOREA&year=2016&category=Key%20indicators&indicator=ElecGenByFuel&mode=chart&dataTable=ELECTRICITYANDHEAT', 'source': 'assumes 41.8% coal, 3.1% oil, 22.5% gas, 1.1% biofuels, 0.9% solar, 0.3% wind', 'value': 680}}, 'KW': {'unknown': {'_url': 'https://www.iea.org/statistics/?country=KUWAIT&year=2017&category=Key%20indicators&indicator=ElecGenByFuel&mode=chart&dataTable=ELECTRICITYANDHEAT', 'source': 'IEA 2017; assumes 34.4% gas, 65.6% oil', 'value': 595}}, 'LT': {'battery discharge': {'source': '2019 average by Tomorrow', 'value': 446.070472425505}, 'hydro discharge': {'source': '2019 average by Tomorrow', 'value': 446.070472425505}}, 'LV': {'hydro discharge': {'source': '2017 average by Tomorrow', 'value': 439.92440182955363}}, 'MD': {'hydro discharge': {'source': '2017 average by Tomorrow', 'value': 561.0445799682287}}, 'ME': {'hydro discharge': {'source': '2017 average by Tomorrow', 'value': 653.1426279273578}}, 'MK': {'hydro discharge': {'source': '2017 average by Tomorrow', 'value': 592.2185925876988}}, 'MY-WM': {'hydro discharge': {'source': '2017 average by Tomorrow', 'value': 628.4027273315369}}, 'NI': {'hydro discharge': {'source': '2017 average by Tomorrow', 'value': 310.27206722101863}}, 'NL': {'hydro discharge': {'source': '2017 average by Tomorrow', 'value': 462.73049119238584}, 'unknown': {'_url': 'https://github.com/tmrowco/electricitymap-contrib/issues/3015#issuecomment-888154930', 'source': '2020 average by Tomorrow. See disclaimer', 'value': 342}}, 'NO-NO1': {'hydro discharge': {'source': '2017 average by Tomorrow', 'value': 34.68921708986348}}, 'NO-NO2': {'hydro discharge': {'source': '2017 average by Tomorrow', 'value': 38.029382343634545}}, 'NO-NO3': {'hydro discharge': {'source': '2017 average by Tomorrow', 'value': 34.770101548310805}}, 'NO-NO4': {'hydro discharge': {'source': '2017 average by Tomorrow', 'value': 52.84871316612463}}, 'NO-NO5': {'hydro discharge': {'source': '2017 average by Tomorrow', 'value': 39.54793629854753}}, 'NZ-NZN': {'hydro discharge': {'source': '2017 average by Tomorrow', 'value': 185.19400206781782}}, 'NZ-NZS': {'hydro discharge': {'source': '2017 average by Tomorrow', 'value': 38.164465763002966}}, 'PA': {'hydro discharge': {'source': '2017 average by Tomorrow', 'value': 102.19192466757119}}, 'PE': {'hydro discharge': {'source': '2017 average by Tomorrow', 'value': 230.4833489303414}}, 'PL': {'hydro discharge': {'source': '2017 average by Tomorrow', 'value': 674.7698898846445}}, 'PR': {'unknown': {'_comment': 'Source: https://indicadores.pr/dataset/generacion-consumo-costo-ingresos-y-clientes-del-sistema-electrico-de-puerto-rico/resource/fdad4f42-a4be-48bb-9478-a8fb75c000c6', 'source': 'Based on average renewable generation October 2019-September 2020 (12% hydro, 57% solar, 31% wind)', 'value': 31.94}}, 'PT': {'battery discharge': {'source': '2019 average by Tomorrow', 'value': 191.54253349502017}, 'hydro discharge': {'source': '2019 average by Tomorrow', 'value': 191.54253349502017}}, 'RO': {'hydro discharge': {'source': '2017 average by Tomorrow', 'value': 322.2371072531047}}, 'RS': {'hydro discharge': {'source': '2017 average by Tomorrow', 'value': 565.0389007015892}}, 'RU': {'unknown': {'_comment': 'Assumes weighted average emission factor based on 2015-TWh production: 22.7% * 820 g/kWh (coal) + 1.4% * 650 g/kWh (oil) + 75.8% * 490 g/kWh (gas)  = 567 g/kWh; 2015 production', '_url': 'https://www.iea.org/statistics/statisticssearch/report/?country=Russia&product=electricityandheat', 'source': 'assumes 76% gas, 23% coal, 1% oil', 'value': 567}}, 'RU-1': {'unknown': {'_comment': 'Assumes weighted average emission factor based on estimated 2021 fuel consumption: 6.7% * 820 g/kWh (coal) + 0.5% * 650 g/kWh (oil) + 89.0% * 490 g/kWh (gas) + 3.8% * 700 g/kWh (other)= 517 g/kWh, Source: https://minenergo.gov.ru/node/11323 2018-06-26 Table 7.3., p.80, Sum of zones Northwest, Central, Volga, South, Ural', 'source': 'assumes 89% gas, 7% coal, <1% oil, 4% other', 'value': 517}}, 'RU-2': {'unknown': {'_comment': 'Assumes weighted average emission factor based on estimated 2021 fuel consumption: 86.0% * 820 g/kWh (coal) + 0.3% * 650 g/kWh (oil) + 9.1% * 490 g/kWh (gas) + 4.7% * 700 g/kWh (other)= 784 g/kWh, Source: https://minenergo.gov.ru/node/11323 2018-06-26 Table 7.3., p.80, Siberian zone', 'source': 'assumes 86% coal, 9% gas, <1% oil, 5% other', 'value': 784}}, 'RU-AS': {'unknown': {'_comment': 'Assumes weighted average emission factor based on estimated 2021 fuel consumption: 59.6% * 820 g/kWh (coal) + 0.3% * 650 g/kWh (oil) + 40.1% * 490 g/kWh (gas) = 687 g/kWh, Source: https://minenergo.gov.ru/node/11323 2018-06-26 Table 7.3., p.80, Extreme East zone', 'source': 'assumes 60% coal, 40% gas, <1% oil', 'value': 687}}, 'SE': {'hydro discharge': {'source': '2017 average by Tomorrow', 'value': 46.02408724838775}, 'unknown': {'_comment': 'Uses the 2019 (2021 edition) eurostat production values for the sources in unknown', '_url': 'https://ec.europa.eu/eurostat/documents/38154/4956218/Energy-balance-sheets-February-2021-edition.zip/4b1d6665-f303-be7d-a7e5-1e0da16ec0d9?t=1612709565471', 'source': 'assumes 77.22% biomass, 11.2% oil based thermal, 6.33% gas, 4.03% solar, 1.21% peat', 'value': 292.9}}, 'SG': {'hydro discharge': {'source': '2017 average by Tomorrow', 'value': 494.8124797719261}}, 'SI': {'hydro discharge': {'source': '2017 average by Tomorrow', 'value': 246.34741810042195}}, 'SK': {'battery discharge': {'source': '2019 average by Tomorrow', 'value': 270.00397843369217}, 'hydro discharge': {'source': '2019 average by Tomorrow', 'value': 270.00397843369217}}, 'SV': {'hydro discharge': {'source': '2017 average by Tomorrow', 'value': 191.73780595765206}}, 'TR': {'hydro discharge': {'source': '2017 average by Tomorrow', 'value': 466.47377297431035}}, 'TW': {'battery discharge': {'source': '2019 average by Tomorrow', 'value': 549.8577612938966}, 'hydro discharge': {'source': '2019 average by Tomorrow', 'value': 549.8577612938966}}, 'UA': {'battery discharge': {'source': '2019 average by Tomorrow', 'value': 284.9927461471096}, 'hydro discharge': {'source': '2019 average by Tomorrow', 'value': 284.9927461471096}, 'unknown': {'_comment': 'estimated yearly share of solar & wind in this mixed renewable category based on installed capacity in 2018', '_url': 'https://en.wikipedia.org/wiki/Renewable_energy_in_Ukraine', 'source': 'renewable mix; assumes 50% solar, 50% wind', 'value': 28}}, 'UY': {'hydro discharge': {'source': '2017 average by Tomorrow', 'value': 53.102596044553806}}}\n"
     ]
    }
   ],
   "source": [
    "test = df_CO2.iloc[1]['emissionFactors']\n",
    "\n",
    "print(test)"
   ]
  },
  {
   "cell_type": "code",
   "execution_count": 112,
   "metadata": {},
   "outputs": [
    {
     "ename": "ValueError",
     "evalue": "Invalid file path or buffer object type: <class 'dict'>",
     "output_type": "error",
     "traceback": [
      "\u001b[0;31m---------------------------------------------------------------------------\u001b[0m",
      "\u001b[0;31mValueError\u001b[0m                                Traceback (most recent call last)",
      "\u001b[0;32m<ipython-input-112-29f5a338fb0c>\u001b[0m in \u001b[0;36m<module>\u001b[0;34m\u001b[0m\n\u001b[0;32m----> 1\u001b[0;31m \u001b[0mdfn\u001b[0m \u001b[0;34m=\u001b[0m \u001b[0mpd\u001b[0m\u001b[0;34m.\u001b[0m\u001b[0mread_json\u001b[0m\u001b[0;34m(\u001b[0m\u001b[0mtest\u001b[0m\u001b[0;34m)\u001b[0m\u001b[0;34m\u001b[0m\u001b[0m\n\u001b[0m\u001b[1;32m      2\u001b[0m \u001b[0mprint\u001b[0m\u001b[0;34m(\u001b[0m\u001b[0mdf\u001b[0m\u001b[0;34m)\u001b[0m\u001b[0;34m\u001b[0m\u001b[0m\n",
      "\u001b[0;32m/usr/local/lib/python3.6/site-packages/pandas/util/_decorators.py\u001b[0m in \u001b[0;36mwrapper\u001b[0;34m(*args, **kwargs)\u001b[0m\n\u001b[1;32m    212\u001b[0m                 \u001b[0;32melse\u001b[0m\u001b[0;34m:\u001b[0m\u001b[0;34m\u001b[0m\u001b[0m\n\u001b[1;32m    213\u001b[0m                     \u001b[0mkwargs\u001b[0m\u001b[0;34m[\u001b[0m\u001b[0mnew_arg_name\u001b[0m\u001b[0;34m]\u001b[0m \u001b[0;34m=\u001b[0m \u001b[0mnew_arg_value\u001b[0m\u001b[0;34m\u001b[0m\u001b[0m\n\u001b[0;32m--> 214\u001b[0;31m             \u001b[0;32mreturn\u001b[0m \u001b[0mfunc\u001b[0m\u001b[0;34m(\u001b[0m\u001b[0;34m*\u001b[0m\u001b[0margs\u001b[0m\u001b[0;34m,\u001b[0m \u001b[0;34m**\u001b[0m\u001b[0mkwargs\u001b[0m\u001b[0;34m)\u001b[0m\u001b[0;34m\u001b[0m\u001b[0m\n\u001b[0m\u001b[1;32m    215\u001b[0m \u001b[0;34m\u001b[0m\u001b[0m\n\u001b[1;32m    216\u001b[0m         \u001b[0;32mreturn\u001b[0m \u001b[0mcast\u001b[0m\u001b[0;34m(\u001b[0m\u001b[0mF\u001b[0m\u001b[0;34m,\u001b[0m \u001b[0mwrapper\u001b[0m\u001b[0;34m)\u001b[0m\u001b[0;34m\u001b[0m\u001b[0m\n",
      "\u001b[0;32m/usr/local/lib/python3.6/site-packages/pandas/io/json/_json.py\u001b[0m in \u001b[0;36mread_json\u001b[0;34m(path_or_buf, orient, typ, dtype, convert_axes, convert_dates, keep_default_dates, numpy, precise_float, date_unit, encoding, lines, chunksize, compression)\u001b[0m\n\u001b[1;32m    583\u001b[0m     \u001b[0mcompression\u001b[0m \u001b[0;34m=\u001b[0m \u001b[0minfer_compression\u001b[0m\u001b[0;34m(\u001b[0m\u001b[0mpath_or_buf\u001b[0m\u001b[0;34m,\u001b[0m \u001b[0mcompression\u001b[0m\u001b[0;34m)\u001b[0m\u001b[0;34m\u001b[0m\u001b[0m\n\u001b[1;32m    584\u001b[0m     filepath_or_buffer, _, compression, should_close = get_filepath_or_buffer(\n\u001b[0;32m--> 585\u001b[0;31m         \u001b[0mpath_or_buf\u001b[0m\u001b[0;34m,\u001b[0m \u001b[0mencoding\u001b[0m\u001b[0;34m=\u001b[0m\u001b[0mencoding\u001b[0m\u001b[0;34m,\u001b[0m \u001b[0mcompression\u001b[0m\u001b[0;34m=\u001b[0m\u001b[0mcompression\u001b[0m\u001b[0;34m\u001b[0m\u001b[0m\n\u001b[0m\u001b[1;32m    586\u001b[0m     )\n\u001b[1;32m    587\u001b[0m \u001b[0;34m\u001b[0m\u001b[0m\n",
      "\u001b[0;32m/usr/local/lib/python3.6/site-packages/pandas/io/common.py\u001b[0m in \u001b[0;36mget_filepath_or_buffer\u001b[0;34m(filepath_or_buffer, encoding, compression, mode)\u001b[0m\n\u001b[1;32m    198\u001b[0m     \u001b[0;32mif\u001b[0m \u001b[0;32mnot\u001b[0m \u001b[0mis_file_like\u001b[0m\u001b[0;34m(\u001b[0m\u001b[0mfilepath_or_buffer\u001b[0m\u001b[0;34m)\u001b[0m\u001b[0;34m:\u001b[0m\u001b[0;34m\u001b[0m\u001b[0m\n\u001b[1;32m    199\u001b[0m         \u001b[0mmsg\u001b[0m \u001b[0;34m=\u001b[0m \u001b[0;34mf\"Invalid file path or buffer object type: {type(filepath_or_buffer)}\"\u001b[0m\u001b[0;34m\u001b[0m\u001b[0m\n\u001b[0;32m--> 200\u001b[0;31m         \u001b[0;32mraise\u001b[0m \u001b[0mValueError\u001b[0m\u001b[0;34m(\u001b[0m\u001b[0mmsg\u001b[0m\u001b[0;34m)\u001b[0m\u001b[0;34m\u001b[0m\u001b[0m\n\u001b[0m\u001b[1;32m    201\u001b[0m \u001b[0;34m\u001b[0m\u001b[0m\n\u001b[1;32m    202\u001b[0m     \u001b[0;32mreturn\u001b[0m \u001b[0mfilepath_or_buffer\u001b[0m\u001b[0;34m,\u001b[0m \u001b[0;32mNone\u001b[0m\u001b[0;34m,\u001b[0m \u001b[0mcompression\u001b[0m\u001b[0;34m,\u001b[0m \u001b[0;32mFalse\u001b[0m\u001b[0;34m\u001b[0m\u001b[0m\n",
      "\u001b[0;31mValueError\u001b[0m: Invalid file path or buffer object type: <class 'dict'>"
     ]
    }
   ],
   "source": [
    "dfn = pd.read_json(test)\n",
    "print(df)"
   ]
  },
  {
   "cell_type": "code",
   "execution_count": null,
   "metadata": {},
   "outputs": [],
   "source": []
  }
 ],
 "metadata": {
  "kernelspec": {
   "display_name": "Python 3",
   "language": "python",
   "name": "python3"
  },
  "language_info": {
   "codemirror_mode": {
    "name": "ipython",
    "version": 3
   },
   "file_extension": ".py",
   "mimetype": "text/x-python",
   "name": "python",
   "nbconvert_exporter": "python",
   "pygments_lexer": "ipython3",
   "version": "3.6.5"
  }
 },
 "nbformat": 4,
 "nbformat_minor": 2
}
