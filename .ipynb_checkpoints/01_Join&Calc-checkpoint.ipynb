{
 "cells": [
  {
   "cell_type": "code",
   "execution_count": 1,
   "metadata": {},
   "outputs": [],
   "source": [
    "# Importing packages\n",
    "import pandas as pd\n",
    "import sqlite3"
   ]
  },
  {
   "cell_type": "code",
   "execution_count": 17,
   "metadata": {
    "scrolled": true
   },
   "outputs": [],
   "source": [
    "#Initiate a new SQLite database connection object and assign this object to the variable 'dn_conn'\n",
    "db_conn = sqlite3.connect(\"EM_Case.db\")\n",
    "\n",
    "# establish a cursor object and assign to c\n",
    "c = db_conn.cursor()\n",
    "\n",
    "\n",
    "\n",
    "#The SQL script below joins the actual production data with the CO2eq data, \n",
    "#and calculate proportion and carbon intensity\n",
    "\n",
    "df=pd.read_sql(\n",
    "    \"\"\"\n",
    "    \n",
    "    SELECT  a.start, \n",
    "            a.source_mapped,\n",
    "            a.ActualAggregated,\n",
    "            a.co2eq,\n",
    "            b.HourlyAggregated,\n",
    "            ActualAggregated/HourlyAggregated as proportion,\n",
    "            ActualAggregated/HourlyAggregated*co2eq as Carbon_Intensity\n",
    "    FROM\n",
    "    \n",
    "       (SELECT start, source_mapped , SUM(ActualAggregated) as ActualAggregated , AVG(value) as co2eq\n",
    "        FROM\n",
    "            (SELECT *\n",
    "            FROM actualgeneration a\n",
    "            INNER JOIN co2eq b\n",
    "            ON a.Source=b.Source)\n",
    "        GROUP BY start, source_mapped) as a\n",
    "    \n",
    "    LEFT JOIN \n",
    "    \n",
    "       (SELECT start, SUM(ActualAggregated) as HourlyAggregated\n",
    "        FROM\n",
    "            (SELECT *\n",
    "            FROM actualgeneration a\n",
    "            INNER JOIN co2eq b\n",
    "            ON a.Source=b.Source)\n",
    "        GROUP BY start) as b\n",
    "        \n",
    "    ON a.start=b.start\n",
    "    \n",
    "    \n",
    "    \"\"\", db_conn) \n",
    "\n",
    "df.to_csv(\"SQLJoin&Calc.csv\")"
   ]
  }
 ],
 "metadata": {
  "kernelspec": {
   "display_name": "Python 3",
   "language": "python",
   "name": "python3"
  },
  "language_info": {
   "codemirror_mode": {
    "name": "ipython",
    "version": 3
   },
   "file_extension": ".py",
   "mimetype": "text/x-python",
   "name": "python",
   "nbconvert_exporter": "python",
   "pygments_lexer": "ipython3",
   "version": "3.6.5"
  }
 },
 "nbformat": 4,
 "nbformat_minor": 2
}
